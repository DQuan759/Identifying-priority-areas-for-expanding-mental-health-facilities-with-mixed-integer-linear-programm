{
 "cells": [
  {
   "cell_type": "code",
   "execution_count": 7,
   "id": "9670718c",
   "metadata": {},
   "outputs": [
    {
     "name": "stdout",
     "output_type": "stream",
     "text": [
      "Collecting package metadata (current_repodata.json): ...working... done\n",
      "Solving environment: ...working... done\n",
      "\n",
      "# All requested packages already installed.\n",
      "\n"
     ]
    }
   ],
   "source": [
    "import sys\n",
    "!conda install --yes --prefix {sys.prefix} numpy"
   ]
  },
  {
   "cell_type": "code",
   "execution_count": 1,
   "id": "422c19bc",
   "metadata": {},
   "outputs": [
    {
     "name": "stdout",
     "output_type": "stream",
     "text": [
      "Collecting geocoder\n",
      "  Downloading geocoder-1.38.1-py2.py3-none-any.whl (98 kB)\n",
      "Requirement already satisfied: future in c:\\users\\derek\\anaconda3\\lib\\site-packages (from geocoder) (0.18.2)\n",
      "Requirement already satisfied: requests in c:\\users\\derek\\anaconda3\\lib\\site-packages (from geocoder) (2.26.0)\n",
      "Requirement already satisfied: click in c:\\users\\derek\\anaconda3\\lib\\site-packages (from geocoder) (8.0.3)\n",
      "Requirement already satisfied: six in c:\\users\\derek\\anaconda3\\lib\\site-packages (from geocoder) (1.16.0)\n",
      "Collecting ratelim\n",
      "  Downloading ratelim-0.1.6-py2.py3-none-any.whl (4.0 kB)\n",
      "Requirement already satisfied: colorama in c:\\users\\derek\\anaconda3\\lib\\site-packages (from click->geocoder) (0.4.4)\n",
      "Requirement already satisfied: decorator in c:\\users\\derek\\anaconda3\\lib\\site-packages (from ratelim->geocoder) (5.1.0)\n",
      "Requirement already satisfied: urllib3<1.27,>=1.21.1 in c:\\users\\derek\\anaconda3\\lib\\site-packages (from requests->geocoder) (1.26.7)\n",
      "Requirement already satisfied: idna<4,>=2.5 in c:\\users\\derek\\anaconda3\\lib\\site-packages (from requests->geocoder) (3.2)\n",
      "Requirement already satisfied: certifi>=2017.4.17 in c:\\users\\derek\\anaconda3\\lib\\site-packages (from requests->geocoder) (2021.10.8)\n",
      "Requirement already satisfied: charset-normalizer~=2.0.0 in c:\\users\\derek\\anaconda3\\lib\\site-packages (from requests->geocoder) (2.0.4)\n",
      "Installing collected packages: ratelim, geocoder\n",
      "Successfully installed geocoder-1.38.1 ratelim-0.1.6\n",
      "Note: you may need to restart the kernel to use updated packages.\n"
     ]
    }
   ],
   "source": [
    "%pip install geocoder"
   ]
  },
  {
   "cell_type": "code",
   "execution_count": 23,
   "id": "fc65678f",
   "metadata": {},
   "outputs": [],
   "source": [
    "import geocoder\n",
    "import csv\n",
    "file = open('Facility geographic information.csv')\n",
    "csvreader = csv.reader(file)\n",
    "header = []\n",
    "header = next(csvreader)\n",
    "rows = []\n",
    "\n",
    "for row in csvreader:\n",
    "        rows.append(row)\n",
    "\n",
    "file.close()"
   ]
  },
  {
   "cell_type": "code",
   "execution_count": 31,
   "id": "c4c91550",
   "metadata": {},
   "outputs": [],
   "source": [
    "addr = []\n",
    "for i in rows:\n",
    "    addr.append(i[1])\n",
    "\n",
    "lat = []\n",
    "lng = []\n",
    "for i in addr:\n",
    "    g = geocoder.osm(i)\n",
    "    lat.append(g.lat)\n",
    "    lng.append(g.lng)"
   ]
  },
  {
   "cell_type": "code",
   "execution_count": 34,
   "id": "615db2c1",
   "metadata": {},
   "outputs": [],
   "source": [
    "import pandas as pd\n",
    "df = pd.read_csv(\"Facility geographic information.csv\")\n",
    "df[\"latitude\"] = lat\n",
    "df[\"longitude\"] = lng\n",
    "\n",
    "df.to_csv(\"Facility geographic information.csv\", index=False)"
   ]
  },
  {
   "cell_type": "code",
   "execution_count": null,
   "id": "bf7cadf6",
   "metadata": {},
   "outputs": [],
   "source": []
  }
 ],
 "metadata": {
  "kernelspec": {
   "display_name": "Python 3",
   "language": "python",
   "name": "python3"
  },
  "language_info": {
   "codemirror_mode": {
    "name": "ipython",
    "version": 3
   },
   "file_extension": ".py",
   "mimetype": "text/x-python",
   "name": "python",
   "nbconvert_exporter": "python",
   "pygments_lexer": "ipython3",
   "version": "3.8.8"
  }
 },
 "nbformat": 4,
 "nbformat_minor": 5
}
